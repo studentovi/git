{
 "cells": [
  {
   "cell_type": "markdown",
   "metadata": {},
   "source": [
    "sudo apt get install git #установить Git\n",
    "git init # инициальзаровать папку \n",
    "git status# посмотреть статус файлов \n",
    "git add# добавить файлы \n",
    "git commit# создать коммит \n",
    "git log# показать логи \n",
    "git diff# показать изменения в файле \n",
    "git show +d # показать изменения в комиченых файлах \n",
    "git add .# добавить все файлы в \n",
    "ГИТХАБ: \n",
    "    new пер \n",
    "        -\n",
    "        -\n",
    "git pull# выкачать файлы \n",
    "git push# закачать файлы \n",
    "git branch # показать ветки \n",
    "git branch ветка# создание ветки \n",
    "git checkout ветка# перейти на ветку \n",
    "git merge название # слить ветки \n",
    "git branch -d название ветки # удалить ветку \n",
    "git checkout -b devel# создание ветки и переход в нее \n",
    "GIT Flow \n",
    "\n",
    "fit flow название start название \n",
    "git tag название  маркировка \n",
    "git checkout -b тэг \n",
    "git push origin -tags # запушить теги \n",
    "WEBstorm \n",
    "\n",
    "git fetch \n",
    "\n",
    "git config user.name \"какое то имя\"\n",
    "git config user.email \"какая то почта\"\n"
   ]
  }
 ],
 "metadata": {
  "kernelspec": {
   "display_name": "Python 3",
   "language": "python",
   "name": "python3"
  },
  "language_info": {
   "codemirror_mode": {
    "name": "ipython",
    "version": 3
   },
   "file_extension": ".py",
   "mimetype": "text/x-python",
   "name": "python",
   "nbconvert_exporter": "python",
   "pygments_lexer": "ipython3",
   "version": "3.5.2"
  }
 },
 "nbformat": 4,
 "nbformat_minor": 2
}
